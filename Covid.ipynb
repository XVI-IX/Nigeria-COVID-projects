{
 "cells": [
  {
   "cell_type": "markdown",
   "metadata": {},
   "source": [
    "## Data Collection\n",
    "Obtained the required data for the analysis"
   ]
  },
  {
   "cell_type": "code",
   "execution_count": 45,
   "metadata": {},
   "outputs": [],
   "source": [
    "import requests\n",
    "import numpy as np\n",
    "import pandas as pd\n",
    "from bs4 import BeautifulSoup as bs\n",
    "import seaborn as sns\n",
    "import matplotlib.pyplot as plt\n",
    "from matplotlib.dates import DateFormatter\n",
    "%matplotlib inline\n",
    "import warnings\n",
    "warnings.filterwarnings('ignore')\n",
    "\n",
    "import wget"
   ]
  },
  {
   "cell_type": "markdown",
   "metadata": {},
   "source": [
    "##### NCDC Website Scrap"
   ]
  },
  {
   "cell_type": "code",
   "execution_count": 80,
   "metadata": {},
   "outputs": [],
   "source": [
    "page_url = \"https://covid19.ncdc.gov.ng/\"\n",
    "response = requests.get(page_url).text\n",
    "\n",
    "doc = bs(response, 'html.parser')\n",
    "\n",
    "headers = doc.find('thead').text.split('\\n')\n",
    "new_headers = [header for header in headers if header != '']\n",
    "new_headers\n",
    "\n",
    "tr_tags = doc.find('tbody').find_all('tr')\n",
    "tr_tags\n",
    "\n",
    "data = []\n",
    "states = []\n",
    "cases_lab = []\n",
    "cases_admitted = []\n",
    "discharged = []\n",
    "deaths = []\n",
    "\n",
    "for tag in tr_tags:\n",
    "    state = tag.find_all('td')\n",
    "    data.append(state)\n",
    "\n",
    "for record in data:\n",
    "    states.append(record[0].text.replace('\\n', '').strip())\n",
    "    cases_lab.append(record[1].text.strip())\n",
    "    cases_admitted.append(record[2].text.strip())\n",
    "    discharged.append(record[3].text.strip())\n",
    "    deaths.append(record[4].text.strip())\n",
    "\n",
    "df_data = {}\n",
    "df_data['States Affected'] = states\n",
    "df_data['No. of Cases (lab confirmed )'] = cases_lab\n",
    "df_data['No. of Cases (admitted)'] = cases_admitted\n",
    "df_data['Discharged'] = discharged\n",
    "df_data['Deaths'] = deaths\n",
    "\n",
    "covid_data = pd.DataFrame(df_data)\n"
   ]
  },
  {
   "cell_type": "markdown",
   "metadata": {},
   "source": [
    "##### John Hopkins Data Repository"
   ]
  },
  {
   "cell_type": "code",
   "execution_count": 3,
   "metadata": {},
   "outputs": [
    {
     "data": {
      "text/plain": [
       "['time_series_covid19_confirmed_global.csv',\n",
       " 'time_series_covid19_deaths_global.csv',\n",
       " 'time_series_covid19_recovered_global.csv']"
      ]
     },
     "execution_count": 3,
     "metadata": {},
     "output_type": "execute_result"
    }
   ],
   "source": [
    "urls = [\n",
    "    'https://raw.githubusercontent.com/CSSEGISandData/COVID-19/master/csse_covid_19_data/csse_covid_19_time_series/time_series_covid19_confirmed_global.csv',\n",
    "    'https://raw.githubusercontent.com/CSSEGISandData/COVID-19/master/csse_covid_19_data/csse_covid_19_time_series/time_series_covid19_deaths_global.csv',\n",
    "    'https://raw.githubusercontent.com/CSSEGISandData/COVID-19/master/csse_covid_19_data/csse_covid_19_time_series/time_series_covid19_recovered_global.csv'\n",
    "]\n",
    "\n",
    "[wget.download(url) for url in urls]"
   ]
  },
  {
   "cell_type": "code",
   "execution_count": 4,
   "metadata": {},
   "outputs": [],
   "source": [
    "deaths_global = pd.read_csv(\n",
    "    'time_series_covid19_deaths_global.csv', sep=',')\n",
    "recovered_global = pd.read_csv('time_series_covid19_recovered_global.csv', sep=',')\n",
    "confirmed_global = pd.read_csv(\n",
    "    'time_series_covid19_confirmed_global.csv', sep=',')\n"
   ]
  },
  {
   "cell_type": "code",
   "execution_count": 5,
   "metadata": {},
   "outputs": [
    {
     "data": {
      "text/plain": [
       "Index(['Province/State', 'Country/Region', 'Lat', 'Long', '1/22/20', '1/23/20',\n",
       "       '1/24/20', '1/25/20', '1/26/20', '1/27/20',\n",
       "       ...\n",
       "       '12/8/21', '12/9/21', '12/10/21', '12/11/21', '12/12/21', '12/13/21',\n",
       "       '12/14/21', '12/15/21', '12/16/21', '12/17/21'],\n",
       "      dtype='object', length=700)"
      ]
     },
     "execution_count": 5,
     "metadata": {},
     "output_type": "execute_result"
    }
   ],
   "source": [
    "confirmed_global.columns"
   ]
  },
  {
   "cell_type": "code",
   "execution_count": 6,
   "metadata": {},
   "outputs": [],
   "source": [
    "dates = confirmed_global.columns[4:]"
   ]
  },
  {
   "cell_type": "code",
   "execution_count": 7,
   "metadata": {},
   "outputs": [],
   "source": [
    "# Transposed the table using pd.melt \n",
    "id_variables = ['Province/State', 'Country/Region', 'Lat', 'Long']\n",
    "\n",
    "confirmed_global_long = confirmed_global.melt(\n",
    "    id_vars = id_variables,\n",
    "    value_vars = dates,\n",
    "    var_name = 'Date',\n",
    "    value_name = 'Confirmed'\n",
    ")\n",
    "\n",
    "deaths_global_long = deaths_global.melt(\n",
    "    id_vars=id_variables,\n",
    "    value_vars=dates,\n",
    "    var_name='Date',\n",
    "    value_name='deaths'\n",
    ")\n",
    "\n",
    "recovered_global_long = recovered_global.melt(\n",
    "    id_vars=id_variables,\n",
    "    value_vars=dates,\n",
    "    var_name='Date',\n",
    "    value_name='recovered'\n",
    ")\n"
   ]
  },
  {
   "cell_type": "code",
   "execution_count": 8,
   "metadata": {},
   "outputs": [],
   "source": [
    "recovered_global_long = recovered_global_long[recovered_global_long['Country/Region'] != 'Canada']"
   ]
  },
  {
   "cell_type": "code",
   "execution_count": 9,
   "metadata": {},
   "outputs": [
    {
     "data": {
      "text/html": [
       "<div>\n",
       "<style scoped>\n",
       "    .dataframe tbody tr th:only-of-type {\n",
       "        vertical-align: middle;\n",
       "    }\n",
       "\n",
       "    .dataframe tbody tr th {\n",
       "        vertical-align: top;\n",
       "    }\n",
       "\n",
       "    .dataframe thead th {\n",
       "        text-align: right;\n",
       "    }\n",
       "</style>\n",
       "<table border=\"1\" class=\"dataframe\">\n",
       "  <thead>\n",
       "    <tr style=\"text-align: right;\">\n",
       "      <th></th>\n",
       "      <th>Province/State</th>\n",
       "      <th>Country/Region</th>\n",
       "      <th>Lat</th>\n",
       "      <th>Long</th>\n",
       "      <th>Date</th>\n",
       "      <th>recovered</th>\n",
       "    </tr>\n",
       "  </thead>\n",
       "  <tbody>\n",
       "    <tr>\n",
       "      <th>0</th>\n",
       "      <td>NaN</td>\n",
       "      <td>Afghanistan</td>\n",
       "      <td>33.93911</td>\n",
       "      <td>67.709953</td>\n",
       "      <td>1/22/20</td>\n",
       "      <td>0</td>\n",
       "    </tr>\n",
       "    <tr>\n",
       "      <th>1</th>\n",
       "      <td>NaN</td>\n",
       "      <td>Albania</td>\n",
       "      <td>41.15330</td>\n",
       "      <td>20.168300</td>\n",
       "      <td>1/22/20</td>\n",
       "      <td>0</td>\n",
       "    </tr>\n",
       "    <tr>\n",
       "      <th>2</th>\n",
       "      <td>NaN</td>\n",
       "      <td>Algeria</td>\n",
       "      <td>28.03390</td>\n",
       "      <td>1.659600</td>\n",
       "      <td>1/22/20</td>\n",
       "      <td>0</td>\n",
       "    </tr>\n",
       "    <tr>\n",
       "      <th>3</th>\n",
       "      <td>NaN</td>\n",
       "      <td>Andorra</td>\n",
       "      <td>42.50630</td>\n",
       "      <td>1.521800</td>\n",
       "      <td>1/22/20</td>\n",
       "      <td>0</td>\n",
       "    </tr>\n",
       "    <tr>\n",
       "      <th>4</th>\n",
       "      <td>NaN</td>\n",
       "      <td>Angola</td>\n",
       "      <td>-11.20270</td>\n",
       "      <td>17.873900</td>\n",
       "      <td>1/22/20</td>\n",
       "      <td>0</td>\n",
       "    </tr>\n",
       "  </tbody>\n",
       "</table>\n",
       "</div>"
      ],
      "text/plain": [
       "  Province/State Country/Region       Lat       Long     Date  recovered\n",
       "0            NaN    Afghanistan  33.93911  67.709953  1/22/20          0\n",
       "1            NaN        Albania  41.15330  20.168300  1/22/20          0\n",
       "2            NaN        Algeria  28.03390   1.659600  1/22/20          0\n",
       "3            NaN        Andorra  42.50630   1.521800  1/22/20          0\n",
       "4            NaN         Angola -11.20270  17.873900  1/22/20          0"
      ]
     },
     "execution_count": 9,
     "metadata": {},
     "output_type": "execute_result"
    }
   ],
   "source": [
    "recovered_global_long.head()"
   ]
  },
  {
   "cell_type": "code",
   "execution_count": 10,
   "metadata": {},
   "outputs": [],
   "source": [
    "# Merging the dataframes\n",
    "full_data = confirmed_global_long.merge(\n",
    "    right=recovered_global_long,\n",
    "    how=\"left\",\n",
    "    on=['Province/State', 'Country/Region', 'Lat', 'Long', 'Date']\n",
    ")\n",
    "\n",
    "full_data = full_data.merge(\n",
    "    right=deaths_global_long,\n",
    "    how='left',\n",
    "    on=['Province/State', 'Country/Region', 'Lat', 'Long', 'Date']\n",
    ")\n"
   ]
  },
  {
   "cell_type": "code",
   "execution_count": 11,
   "metadata": {},
   "outputs": [],
   "source": [
    "full_data['Date'] = pd.to_datetime(full_data['Date'])"
   ]
  },
  {
   "cell_type": "code",
   "execution_count": 12,
   "metadata": {},
   "outputs": [
    {
     "data": {
      "text/plain": [
       "Province/State    134328\n",
       "Country/Region         0\n",
       "Lat                 1392\n",
       "Long                1392\n",
       "Date                   0\n",
       "Confirmed              0\n",
       "recovered          14616\n",
       "deaths                 0\n",
       "dtype: int64"
      ]
     },
     "execution_count": 12,
     "metadata": {},
     "output_type": "execute_result"
    }
   ],
   "source": [
    "full_data.isna().sum()"
   ]
  },
  {
   "cell_type": "code",
   "execution_count": 13,
   "metadata": {},
   "outputs": [],
   "source": [
    "full_data['recovered'] = full_data['recovered'].fillna(0)"
   ]
  },
  {
   "cell_type": "code",
   "execution_count": 14,
   "metadata": {},
   "outputs": [
    {
     "data": {
      "text/html": [
       "<div>\n",
       "<style scoped>\n",
       "    .dataframe tbody tr th:only-of-type {\n",
       "        vertical-align: middle;\n",
       "    }\n",
       "\n",
       "    .dataframe tbody tr th {\n",
       "        vertical-align: top;\n",
       "    }\n",
       "\n",
       "    .dataframe thead th {\n",
       "        text-align: right;\n",
       "    }\n",
       "</style>\n",
       "<table border=\"1\" class=\"dataframe\">\n",
       "  <thead>\n",
       "    <tr style=\"text-align: right;\">\n",
       "      <th></th>\n",
       "      <th>Province/State</th>\n",
       "      <th>Country/Region</th>\n",
       "      <th>Lat</th>\n",
       "      <th>Long</th>\n",
       "      <th>Date</th>\n",
       "      <th>Confirmed</th>\n",
       "      <th>recovered</th>\n",
       "      <th>deaths</th>\n",
       "    </tr>\n",
       "  </thead>\n",
       "  <tbody>\n",
       "    <tr>\n",
       "      <th>0</th>\n",
       "      <td>NaN</td>\n",
       "      <td>Nigeria</td>\n",
       "      <td>9.082</td>\n",
       "      <td>8.6753</td>\n",
       "      <td>2020-01-22</td>\n",
       "      <td>0</td>\n",
       "      <td>0.0</td>\n",
       "      <td>0</td>\n",
       "    </tr>\n",
       "    <tr>\n",
       "      <th>1</th>\n",
       "      <td>NaN</td>\n",
       "      <td>Nigeria</td>\n",
       "      <td>9.082</td>\n",
       "      <td>8.6753</td>\n",
       "      <td>2020-01-23</td>\n",
       "      <td>0</td>\n",
       "      <td>0.0</td>\n",
       "      <td>0</td>\n",
       "    </tr>\n",
       "    <tr>\n",
       "      <th>2</th>\n",
       "      <td>NaN</td>\n",
       "      <td>Nigeria</td>\n",
       "      <td>9.082</td>\n",
       "      <td>8.6753</td>\n",
       "      <td>2020-01-24</td>\n",
       "      <td>0</td>\n",
       "      <td>0.0</td>\n",
       "      <td>0</td>\n",
       "    </tr>\n",
       "    <tr>\n",
       "      <th>3</th>\n",
       "      <td>NaN</td>\n",
       "      <td>Nigeria</td>\n",
       "      <td>9.082</td>\n",
       "      <td>8.6753</td>\n",
       "      <td>2020-01-25</td>\n",
       "      <td>0</td>\n",
       "      <td>0.0</td>\n",
       "      <td>0</td>\n",
       "    </tr>\n",
       "    <tr>\n",
       "      <th>4</th>\n",
       "      <td>NaN</td>\n",
       "      <td>Nigeria</td>\n",
       "      <td>9.082</td>\n",
       "      <td>8.6753</td>\n",
       "      <td>2020-01-26</td>\n",
       "      <td>0</td>\n",
       "      <td>0.0</td>\n",
       "      <td>0</td>\n",
       "    </tr>\n",
       "  </tbody>\n",
       "</table>\n",
       "</div>"
      ],
      "text/plain": [
       "  Province/State Country/Region    Lat    Long       Date  Confirmed  \\\n",
       "0            NaN        Nigeria  9.082  8.6753 2020-01-22          0   \n",
       "1            NaN        Nigeria  9.082  8.6753 2020-01-23          0   \n",
       "2            NaN        Nigeria  9.082  8.6753 2020-01-24          0   \n",
       "3            NaN        Nigeria  9.082  8.6753 2020-01-25          0   \n",
       "4            NaN        Nigeria  9.082  8.6753 2020-01-26          0   \n",
       "\n",
       "   recovered  deaths  \n",
       "0        0.0       0  \n",
       "1        0.0       0  \n",
       "2        0.0       0  \n",
       "3        0.0       0  \n",
       "4        0.0       0  "
      ]
     },
     "execution_count": 14,
     "metadata": {},
     "output_type": "execute_result"
    }
   ],
   "source": [
    "nigeria_table = full_data[full_data['Country/Region'] == 'Nigeria']\n",
    "nigeria_table.reset_index(inplace=True, drop=True)\n",
    "nigeria_table.head()"
   ]
  },
  {
   "cell_type": "markdown",
   "metadata": {},
   "source": [
    "### External Data"
   ]
  },
  {
   "cell_type": "code",
   "execution_count": 87,
   "metadata": {},
   "outputs": [],
   "source": [
    "covid_external = pd.read_csv('covid_external.csv', sep=',')\n",
    "budget_data = pd.read_csv('Budget data.csv', sep=',')\n",
    "realGdp = pd.read_csv('RealGDP.csv', sep=',')"
   ]
  },
  {
   "cell_type": "code",
   "execution_count": 88,
   "metadata": {},
   "outputs": [
    {
     "data": {
      "text/html": [
       "<div>\n",
       "<style scoped>\n",
       "    .dataframe tbody tr th:only-of-type {\n",
       "        vertical-align: middle;\n",
       "    }\n",
       "\n",
       "    .dataframe tbody tr th {\n",
       "        vertical-align: top;\n",
       "    }\n",
       "\n",
       "    .dataframe thead th {\n",
       "        text-align: right;\n",
       "    }\n",
       "</style>\n",
       "<table border=\"1\" class=\"dataframe\">\n",
       "  <thead>\n",
       "    <tr style=\"text-align: right;\">\n",
       "      <th></th>\n",
       "      <th>States Affected</th>\n",
       "      <th>No. of Cases (lab confirmed )</th>\n",
       "      <th>No. of Cases (admitted)</th>\n",
       "      <th>Discharged</th>\n",
       "      <th>Deaths</th>\n",
       "    </tr>\n",
       "  </thead>\n",
       "  <tbody>\n",
       "    <tr>\n",
       "      <th>0</th>\n",
       "      <td>Lagos</td>\n",
       "      <td>83,514</td>\n",
       "      <td>2,705</td>\n",
       "      <td>80,053</td>\n",
       "      <td>756</td>\n",
       "    </tr>\n",
       "    <tr>\n",
       "      <th>1</th>\n",
       "      <td>FCT</td>\n",
       "      <td>24,777</td>\n",
       "      <td>1,162</td>\n",
       "      <td>23,391</td>\n",
       "      <td>224</td>\n",
       "    </tr>\n",
       "    <tr>\n",
       "      <th>2</th>\n",
       "      <td>Rivers</td>\n",
       "      <td>13,637</td>\n",
       "      <td>647</td>\n",
       "      <td>12,836</td>\n",
       "      <td>154</td>\n",
       "    </tr>\n",
       "    <tr>\n",
       "      <th>3</th>\n",
       "      <td>Kaduna</td>\n",
       "      <td>10,213</td>\n",
       "      <td>66</td>\n",
       "      <td>10,066</td>\n",
       "      <td>81</td>\n",
       "    </tr>\n",
       "    <tr>\n",
       "      <th>4</th>\n",
       "      <td>Plateau</td>\n",
       "      <td>10,061</td>\n",
       "      <td>95</td>\n",
       "      <td>9,893</td>\n",
       "      <td>73</td>\n",
       "    </tr>\n",
       "    <tr>\n",
       "      <th>5</th>\n",
       "      <td>Oyo</td>\n",
       "      <td>9,120</td>\n",
       "      <td>333</td>\n",
       "      <td>8,596</td>\n",
       "      <td>191</td>\n",
       "    </tr>\n",
       "    <tr>\n",
       "      <th>6</th>\n",
       "      <td>Edo</td>\n",
       "      <td>6,960</td>\n",
       "      <td>345</td>\n",
       "      <td>6,334</td>\n",
       "      <td>281</td>\n",
       "    </tr>\n",
       "    <tr>\n",
       "      <th>7</th>\n",
       "      <td>Ogun</td>\n",
       "      <td>5,517</td>\n",
       "      <td>138</td>\n",
       "      <td>5,299</td>\n",
       "      <td>80</td>\n",
       "    </tr>\n",
       "    <tr>\n",
       "      <th>8</th>\n",
       "      <td>Ondo</td>\n",
       "      <td>4,676</td>\n",
       "      <td>70</td>\n",
       "      <td>4,508</td>\n",
       "      <td>98</td>\n",
       "    </tr>\n",
       "    <tr>\n",
       "      <th>9</th>\n",
       "      <td>Delta</td>\n",
       "      <td>4,543</td>\n",
       "      <td>1,877</td>\n",
       "      <td>2,556</td>\n",
       "      <td>110</td>\n",
       "    </tr>\n",
       "    <tr>\n",
       "      <th>10</th>\n",
       "      <td>Kano</td>\n",
       "      <td>4,515</td>\n",
       "      <td>86</td>\n",
       "      <td>4,307</td>\n",
       "      <td>122</td>\n",
       "    </tr>\n",
       "    <tr>\n",
       "      <th>11</th>\n",
       "      <td>Akwa Ibom</td>\n",
       "      <td>4,428</td>\n",
       "      <td>66</td>\n",
       "      <td>4,318</td>\n",
       "      <td>44</td>\n",
       "    </tr>\n",
       "    <tr>\n",
       "      <th>12</th>\n",
       "      <td>Kwara</td>\n",
       "      <td>4,019</td>\n",
       "      <td>246</td>\n",
       "      <td>3,709</td>\n",
       "      <td>64</td>\n",
       "    </tr>\n",
       "    <tr>\n",
       "      <th>13</th>\n",
       "      <td>Osun</td>\n",
       "      <td>3,046</td>\n",
       "      <td>14</td>\n",
       "      <td>2,946</td>\n",
       "      <td>86</td>\n",
       "    </tr>\n",
       "    <tr>\n",
       "      <th>14</th>\n",
       "      <td>Enugu</td>\n",
       "      <td>2,836</td>\n",
       "      <td>10</td>\n",
       "      <td>2,797</td>\n",
       "      <td>29</td>\n",
       "    </tr>\n",
       "    <tr>\n",
       "      <th>15</th>\n",
       "      <td>Gombe</td>\n",
       "      <td>2,757</td>\n",
       "      <td>28</td>\n",
       "      <td>2,669</td>\n",
       "      <td>60</td>\n",
       "    </tr>\n",
       "    <tr>\n",
       "      <th>16</th>\n",
       "      <td>Nasarawa</td>\n",
       "      <td>2,517</td>\n",
       "      <td>133</td>\n",
       "      <td>2,345</td>\n",
       "      <td>39</td>\n",
       "    </tr>\n",
       "    <tr>\n",
       "      <th>17</th>\n",
       "      <td>Anambra</td>\n",
       "      <td>2,446</td>\n",
       "      <td>41</td>\n",
       "      <td>2,386</td>\n",
       "      <td>19</td>\n",
       "    </tr>\n",
       "    <tr>\n",
       "      <th>18</th>\n",
       "      <td>Katsina</td>\n",
       "      <td>2,367</td>\n",
       "      <td>10</td>\n",
       "      <td>2,320</td>\n",
       "      <td>37</td>\n",
       "    </tr>\n",
       "    <tr>\n",
       "      <th>19</th>\n",
       "      <td>Imo</td>\n",
       "      <td>2,265</td>\n",
       "      <td>233</td>\n",
       "      <td>1,991</td>\n",
       "      <td>41</td>\n",
       "    </tr>\n",
       "    <tr>\n",
       "      <th>20</th>\n",
       "      <td>Ebonyi</td>\n",
       "      <td>2,062</td>\n",
       "      <td>26</td>\n",
       "      <td>2,004</td>\n",
       "      <td>32</td>\n",
       "    </tr>\n",
       "    <tr>\n",
       "      <th>21</th>\n",
       "      <td>Abia</td>\n",
       "      <td>2,044</td>\n",
       "      <td>11</td>\n",
       "      <td>2,002</td>\n",
       "      <td>31</td>\n",
       "    </tr>\n",
       "    <tr>\n",
       "      <th>22</th>\n",
       "      <td>Benue</td>\n",
       "      <td>1,907</td>\n",
       "      <td>370</td>\n",
       "      <td>1,512</td>\n",
       "      <td>25</td>\n",
       "    </tr>\n",
       "    <tr>\n",
       "      <th>23</th>\n",
       "      <td>Bauchi</td>\n",
       "      <td>1,826</td>\n",
       "      <td>27</td>\n",
       "      <td>1,776</td>\n",
       "      <td>23</td>\n",
       "    </tr>\n",
       "    <tr>\n",
       "      <th>24</th>\n",
       "      <td>Ekiti</td>\n",
       "      <td>1,822</td>\n",
       "      <td>51</td>\n",
       "      <td>1,743</td>\n",
       "      <td>28</td>\n",
       "    </tr>\n",
       "    <tr>\n",
       "      <th>25</th>\n",
       "      <td>Borno</td>\n",
       "      <td>1,356</td>\n",
       "      <td>12</td>\n",
       "      <td>1,306</td>\n",
       "      <td>38</td>\n",
       "    </tr>\n",
       "    <tr>\n",
       "      <th>26</th>\n",
       "      <td>Bayelsa</td>\n",
       "      <td>1,286</td>\n",
       "      <td>42</td>\n",
       "      <td>1,216</td>\n",
       "      <td>28</td>\n",
       "    </tr>\n",
       "    <tr>\n",
       "      <th>27</th>\n",
       "      <td>Taraba</td>\n",
       "      <td>1,269</td>\n",
       "      <td>15</td>\n",
       "      <td>1,222</td>\n",
       "      <td>32</td>\n",
       "    </tr>\n",
       "    <tr>\n",
       "      <th>28</th>\n",
       "      <td>Adamawa</td>\n",
       "      <td>1,157</td>\n",
       "      <td>27</td>\n",
       "      <td>1,098</td>\n",
       "      <td>32</td>\n",
       "    </tr>\n",
       "    <tr>\n",
       "      <th>29</th>\n",
       "      <td>Niger</td>\n",
       "      <td>1,077</td>\n",
       "      <td>59</td>\n",
       "      <td>998</td>\n",
       "      <td>20</td>\n",
       "    </tr>\n",
       "    <tr>\n",
       "      <th>30</th>\n",
       "      <td>Sokoto</td>\n",
       "      <td>810</td>\n",
       "      <td>0</td>\n",
       "      <td>782</td>\n",
       "      <td>28</td>\n",
       "    </tr>\n",
       "    <tr>\n",
       "      <th>31</th>\n",
       "      <td>Cross River</td>\n",
       "      <td>690</td>\n",
       "      <td>23</td>\n",
       "      <td>642</td>\n",
       "      <td>25</td>\n",
       "    </tr>\n",
       "    <tr>\n",
       "      <th>32</th>\n",
       "      <td>Jigawa</td>\n",
       "      <td>619</td>\n",
       "      <td>2</td>\n",
       "      <td>600</td>\n",
       "      <td>17</td>\n",
       "    </tr>\n",
       "    <tr>\n",
       "      <th>33</th>\n",
       "      <td>Yobe</td>\n",
       "      <td>502</td>\n",
       "      <td>3</td>\n",
       "      <td>490</td>\n",
       "      <td>9</td>\n",
       "    </tr>\n",
       "    <tr>\n",
       "      <th>34</th>\n",
       "      <td>Kebbi</td>\n",
       "      <td>470</td>\n",
       "      <td>0</td>\n",
       "      <td>454</td>\n",
       "      <td>16</td>\n",
       "    </tr>\n",
       "    <tr>\n",
       "      <th>35</th>\n",
       "      <td>Zamfara</td>\n",
       "      <td>367</td>\n",
       "      <td>4</td>\n",
       "      <td>354</td>\n",
       "      <td>9</td>\n",
       "    </tr>\n",
       "    <tr>\n",
       "      <th>36</th>\n",
       "      <td>Kogi</td>\n",
       "      <td>5</td>\n",
       "      <td>0</td>\n",
       "      <td>3</td>\n",
       "      <td>2</td>\n",
       "    </tr>\n",
       "  </tbody>\n",
       "</table>\n",
       "</div>"
      ],
      "text/plain": [
       "   States Affected No. of Cases (lab confirmed ) No. of Cases (admitted)  \\\n",
       "0            Lagos                        83,514                   2,705   \n",
       "1              FCT                        24,777                   1,162   \n",
       "2           Rivers                        13,637                     647   \n",
       "3           Kaduna                        10,213                      66   \n",
       "4          Plateau                        10,061                      95   \n",
       "5              Oyo                         9,120                     333   \n",
       "6              Edo                         6,960                     345   \n",
       "7             Ogun                         5,517                     138   \n",
       "8             Ondo                         4,676                      70   \n",
       "9            Delta                         4,543                   1,877   \n",
       "10            Kano                         4,515                      86   \n",
       "11       Akwa Ibom                         4,428                      66   \n",
       "12           Kwara                         4,019                     246   \n",
       "13            Osun                         3,046                      14   \n",
       "14           Enugu                         2,836                      10   \n",
       "15           Gombe                         2,757                      28   \n",
       "16        Nasarawa                         2,517                     133   \n",
       "17         Anambra                         2,446                      41   \n",
       "18         Katsina                         2,367                      10   \n",
       "19             Imo                         2,265                     233   \n",
       "20          Ebonyi                         2,062                      26   \n",
       "21            Abia                         2,044                      11   \n",
       "22           Benue                         1,907                     370   \n",
       "23          Bauchi                         1,826                      27   \n",
       "24           Ekiti                         1,822                      51   \n",
       "25           Borno                         1,356                      12   \n",
       "26         Bayelsa                         1,286                      42   \n",
       "27          Taraba                         1,269                      15   \n",
       "28         Adamawa                         1,157                      27   \n",
       "29           Niger                         1,077                      59   \n",
       "30          Sokoto                           810                       0   \n",
       "31     Cross River                           690                      23   \n",
       "32          Jigawa                           619                       2   \n",
       "33            Yobe                           502                       3   \n",
       "34           Kebbi                           470                       0   \n",
       "35         Zamfara                           367                       4   \n",
       "36            Kogi                             5                       0   \n",
       "\n",
       "   Discharged Deaths  \n",
       "0      80,053    756  \n",
       "1      23,391    224  \n",
       "2      12,836    154  \n",
       "3      10,066     81  \n",
       "4       9,893     73  \n",
       "5       8,596    191  \n",
       "6       6,334    281  \n",
       "7       5,299     80  \n",
       "8       4,508     98  \n",
       "9       2,556    110  \n",
       "10      4,307    122  \n",
       "11      4,318     44  \n",
       "12      3,709     64  \n",
       "13      2,946     86  \n",
       "14      2,797     29  \n",
       "15      2,669     60  \n",
       "16      2,345     39  \n",
       "17      2,386     19  \n",
       "18      2,320     37  \n",
       "19      1,991     41  \n",
       "20      2,004     32  \n",
       "21      2,002     31  \n",
       "22      1,512     25  \n",
       "23      1,776     23  \n",
       "24      1,743     28  \n",
       "25      1,306     38  \n",
       "26      1,216     28  \n",
       "27      1,222     32  \n",
       "28      1,098     32  \n",
       "29        998     20  \n",
       "30        782     28  \n",
       "31        642     25  \n",
       "32        600     17  \n",
       "33        490      9  \n",
       "34        454     16  \n",
       "35        354      9  \n",
       "36          3      2  "
      ]
     },
     "execution_count": 88,
     "metadata": {},
     "output_type": "execute_result"
    }
   ],
   "source": [
    "covid_data"
   ]
  },
  {
   "cell_type": "code",
   "execution_count": 89,
   "metadata": {},
   "outputs": [],
   "source": [
    "# Converting the numbers in object form into strings\n",
    "covid_data.convert_dtypes()\n",
    "def function(x): return x.replace(\",\", '')\n",
    "\n",
    "covid_data['No. of Cases (admitted)'] = covid_data['No. of Cases (admitted)'].apply(function)\n",
    "covid_data['No. of Cases (lab confirmed )'] = covid_data['No. of Cases (lab confirmed )'].apply(function)\n",
    "covid_data['Deaths'] = covid_data['Deaths'].apply(function)\n",
    "covid_data['Discharged'] = covid_data['Discharged'].apply(function)"
   ]
  },
  {
   "cell_type": "code",
   "execution_count": 90,
   "metadata": {},
   "outputs": [],
   "source": [
    "# Converting the strings into integers\n",
    "\n",
    "covid_data['lab_confirmed_cases'] = pd.to_numeric(covid_data['No. of Cases (lab confirmed )'], errors='coerce')\n",
    "covid_data['admitted_cases'] = pd.to_numeric(covid_data['No. of Cases (admitted)'], errors='coerce')\n",
    "covid_data['discharged'] = pd.to_numeric(covid_data['Discharged'], errors='coerce')\n",
    "covid_data['deaths'] = pd.to_numeric(covid_data['Deaths'], errors='coerce')\n",
    "\n",
    "covid_data.drop([\n",
    "    'No. of Cases (lab confirmed )',\n",
    "    'No. of Cases (admitted)',\n",
    "    'Discharged',\n",
    "    'Deaths'\n",
    "], inplace=True, axis=1)\n"
   ]
  },
  {
   "cell_type": "code",
   "execution_count": 91,
   "metadata": {},
   "outputs": [],
   "source": [
    "covid_data.to_csv(\"Covid_nig_data.csv\")"
   ]
  },
  {
   "cell_type": "markdown",
   "metadata": {},
   "source": [
    "A plot that shows the Top 10 states in terms of Confirmed Covid cases by Laboratory Test"
   ]
  },
  {
   "cell_type": "code",
   "execution_count": 19,
   "metadata": {},
   "outputs": [
    {
     "data": {
      "text/plain": [
       "[Text(0.5, 0, 'States Affected'),\n",
       " Text(0, 0.5, 'No. of Cases (Lab Confirmed)'),\n",
       " Text(0.5, 1.0, 'Top 10 States in terms of Lab Confirmed covid cases')]"
      ]
     },
     "execution_count": 19,
     "metadata": {},
     "output_type": "execute_result"
    },
    {
     "data": {
      "image/png": "[encoded data removed]",
      "text/plain": [
       "<Figure size 720x432 with 1 Axes>"
      ]
     },
     "metadata": {
      "needs_background": "dark"
     },
     "output_type": "display_data"
    }
   ],
   "source": [
    "#Generate a plot that shows the Top 10 states in terms of Confirmed Covid cases by Laboratory test\n",
    "covid_data = covid_data.sort_values(by='lab_confirmed_cases', ascending=False)\n",
    "fig_dims = (10, 6)\n",
    "fig, ax = plt.subplots(figsize=fig_dims)\n",
    "sns.barplot(\n",
    "    x=covid_data['States Affected'].head(10),\n",
    "    y=covid_data['lab_confirmed_cases'].head(10),\n",
    "    data=covid_data,\n",
    "    ax=ax,\n",
    "    color='blue'\n",
    "    )\n",
    "ax.set(\n",
    "    xlabel = \"States Affected\",\n",
    "    ylabel = \"No. of Cases (Lab Confirmed)\",\n",
    "    title = \"Top 10 States in terms of Lab Confirmed covid cases\"\n",
    ")"
   ]
  },
  {
   "cell_type": "code",
   "execution_count": 20,
   "metadata": {},
   "outputs": [],
   "source": [
    "covid_data = covid_data.sort_values(by='discharged', ascending=False)"
   ]
  },
  {
   "cell_type": "markdown",
   "metadata": {},
   "source": [
    "A plot that shows the Top 10 states in terms of Discharged covid cases"
   ]
  },
  {
   "cell_type": "code",
   "execution_count": 21,
   "metadata": {},
   "outputs": [
    {
     "data": {
      "text/plain": [
       "[Text(0.5, 0, 'States Affected'),\n",
       " Text(0, 0.5, 'Discharged Covid Cases'),\n",
       " Text(0.5, 1.0, 'Top 10 states in terms of discharged covid cases')]"
      ]
     },
     "execution_count": 21,
     "metadata": {},
     "output_type": "execute_result"
    },
    {
     "data": {
      "image/png": "[encoded data removed]",
      "text/plain": [
       "<Figure size 720x432 with 1 Axes>"
      ]
     },
     "metadata": {
      "needs_background": "dark"
     },
     "output_type": "display_data"
    }
   ],
   "source": [
    "fig_dim = (10, 6)\n",
    "fig, ax = plt.subplots(figsize=fig_dim)\n",
    "sns.barplot(\n",
    "    x=covid_data['States Affected'].head(10),\n",
    "    y=covid_data['discharged'].head(10),\n",
    "    ax=ax,\n",
    "    data=covid_data,\n",
    "    color='blue'\n",
    ")\n",
    "ax.set(\n",
    "    xlabel = 'States Affected',\n",
    "    ylabel = 'Discharged Covid Cases',\n",
    "    title = \"Top 10 states in terms of discharged covid cases\"\n",
    ")"
   ]
  },
  {
   "cell_type": "code",
   "execution_count": 22,
   "metadata": {},
   "outputs": [],
   "source": [
    "covid_data = covid_data.sort_values(by='deaths', ascending=False)"
   ]
  },
  {
   "cell_type": "markdown",
   "metadata": {},
   "source": [
    "Top 10 Death cases"
   ]
  },
  {
   "cell_type": "code",
   "execution_count": 23,
   "metadata": {},
   "outputs": [
    {
     "data": {
      "text/plain": [
       "[Text(0, 0.5, 'Deaths'), Text(0.5, 1.0, 'Top 10 Death Cases')]"
      ]
     },
     "execution_count": 23,
     "metadata": {},
     "output_type": "execute_result"
    },
    {
     "data": {
      "image/png": "[encoded data removed]",
      "text/plain": [
       "<Figure size 864x576 with 1 Axes>"
      ]
     },
     "metadata": {
      "needs_background": "dark"
     },
     "output_type": "display_data"
    }
   ],
   "source": [
    "fig_dim = (12, 8)\n",
    "fig, ax = plt.subplots(figsize=fig_dim)\n",
    "\n",
    "sns.barplot(\n",
    "    x=covid_data['States Affected'].head(10),\n",
    "    y=covid_data['deaths'].head(10),\n",
    "    ax=ax,\n",
    "    data=covid_data,\n",
    "    palette=\"Blues_d\"\n",
    ")\n",
    "\n",
    "ax.set(\n",
    "    ylabel=\"Deaths\",\n",
    "    title=\"Top 10 Death Cases\"\n",
    ")"
   ]
  },
  {
   "cell_type": "markdown",
   "metadata": {},
   "source": [
    "Line Plot for total daily confirmed, recovered and death cases in Nigeria"
   ]
  },
  {
   "cell_type": "code",
   "execution_count": 25,
   "metadata": {},
   "outputs": [
    {
     "data": {
      "image/png": "[encoded data removed]",
      "text/plain": [
       "<Figure size 1440x1152 with 1 Axes>"
      ]
     },
     "metadata": {
      "needs_background": "dark"
     },
     "output_type": "display_data"
    }
   ],
   "source": [
    "fig_dim = (20, 16)\n",
    "fig, ax = plt.subplots(figsize=fig_dim)\n",
    "x = covid_data['States Affected']\n",
    "\n",
    "ax.plot(x, covid_data['deaths'], label='Deaths', color='red')\n",
    "ax.plot(x, covid_data['discharged'], label='Discharged', color='white')\n",
    "ax.plot(x, covid_data['lab_confirmed_cases'], label='Lab Confirmed Cases', color='yellow')\n",
    "ax.plot(x, covid_data['admitted_cases'], label=\"Admitted Cases\", color='blue')\n",
    "ax.legend()\n",
    "plt.xticks(rotation=45)\n",
    "plt.show()\n"
   ]
  },
  {
   "cell_type": "code",
   "execution_count": 28,
   "metadata": {},
   "outputs": [
    {
     "data": {
      "text/html": [
       "<div>\n",
       "<style scoped>\n",
       "    .dataframe tbody tr th:only-of-type {\n",
       "        vertical-align: middle;\n",
       "    }\n",
       "\n",
       "    .dataframe tbody tr th {\n",
       "        vertical-align: top;\n",
       "    }\n",
       "\n",
       "    .dataframe thead th {\n",
       "        text-align: right;\n",
       "    }\n",
       "</style>\n",
       "<table border=\"1\" class=\"dataframe\">\n",
       "  <thead>\n",
       "    <tr style=\"text-align: right;\">\n",
       "      <th></th>\n",
       "      <th>Confirmed</th>\n",
       "      <th>recovered</th>\n",
       "      <th>deaths</th>\n",
       "    </tr>\n",
       "  </thead>\n",
       "  <tbody>\n",
       "    <tr>\n",
       "      <th>0</th>\n",
       "      <td>NaN</td>\n",
       "      <td>NaN</td>\n",
       "      <td>NaN</td>\n",
       "    </tr>\n",
       "    <tr>\n",
       "      <th>1</th>\n",
       "      <td>0.0</td>\n",
       "      <td>0.0</td>\n",
       "      <td>0.0</td>\n",
       "    </tr>\n",
       "    <tr>\n",
       "      <th>2</th>\n",
       "      <td>0.0</td>\n",
       "      <td>0.0</td>\n",
       "      <td>0.0</td>\n",
       "    </tr>\n",
       "    <tr>\n",
       "      <th>3</th>\n",
       "      <td>0.0</td>\n",
       "      <td>0.0</td>\n",
       "      <td>0.0</td>\n",
       "    </tr>\n",
       "    <tr>\n",
       "      <th>4</th>\n",
       "      <td>0.0</td>\n",
       "      <td>0.0</td>\n",
       "      <td>0.0</td>\n",
       "    </tr>\n",
       "    <tr>\n",
       "      <th>...</th>\n",
       "      <td>...</td>\n",
       "      <td>...</td>\n",
       "      <td>...</td>\n",
       "    </tr>\n",
       "    <tr>\n",
       "      <th>194875</th>\n",
       "      <td>1068075.0</td>\n",
       "      <td>0.0</td>\n",
       "      <td>23838.0</td>\n",
       "    </tr>\n",
       "    <tr>\n",
       "      <th>194876</th>\n",
       "      <td>-1043379.0</td>\n",
       "      <td>0.0</td>\n",
       "      <td>-24248.0</td>\n",
       "    </tr>\n",
       "    <tr>\n",
       "      <th>194877</th>\n",
       "      <td>-455002.0</td>\n",
       "      <td>0.0</td>\n",
       "      <td>-2881.0</td>\n",
       "    </tr>\n",
       "    <tr>\n",
       "      <th>194878</th>\n",
       "      <td>204341.0</td>\n",
       "      <td>0.0</td>\n",
       "      <td>1700.0</td>\n",
       "    </tr>\n",
       "    <tr>\n",
       "      <th>194879</th>\n",
       "      <td>-24866.0</td>\n",
       "      <td>0.0</td>\n",
       "      <td>1105.0</td>\n",
       "    </tr>\n",
       "  </tbody>\n",
       "</table>\n",
       "<p>194880 rows × 3 columns</p>\n",
       "</div>"
      ],
      "text/plain": [
       "        Confirmed  recovered   deaths\n",
       "0             NaN        NaN      NaN\n",
       "1             0.0        0.0      0.0\n",
       "2             0.0        0.0      0.0\n",
       "3             0.0        0.0      0.0\n",
       "4             0.0        0.0      0.0\n",
       "...           ...        ...      ...\n",
       "194875  1068075.0        0.0  23838.0\n",
       "194876 -1043379.0        0.0 -24248.0\n",
       "194877  -455002.0        0.0  -2881.0\n",
       "194878   204341.0        0.0   1700.0\n",
       "194879   -24866.0        0.0   1105.0\n",
       "\n",
       "[194880 rows x 3 columns]"
      ]
     },
     "execution_count": 28,
     "metadata": {},
     "output_type": "execute_result"
    }
   ],
   "source": [
    "# Comparing the columns by calculating the difference between the rows\n",
    "\n",
    "infection_rate = full_data[['Confirmed', 'recovered', 'deaths' ]].diff()\n",
    "infection_rate"
   ]
  },
  {
   "cell_type": "code",
   "execution_count": 41,
   "metadata": {},
   "outputs": [],
   "source": [
    "full_data['infection_rate'] = full_data[['Confirmed']].diff().fillna(0)"
   ]
  },
  {
   "cell_type": "code",
   "execution_count": 52,
   "metadata": {},
   "outputs": [],
   "source": [
    "full_data = full_data[full_data['Country/Region'] == 'Nigeria']"
   ]
  },
  {
   "cell_type": "code",
   "execution_count": 50,
   "metadata": {},
   "outputs": [
    {
     "data": {
      "text/plain": [
       "Date\n",
       "2020-01-22       0.0\n",
       "2020-01-23       0.0\n",
       "2020-01-24       0.0\n",
       "2020-01-25       0.0\n",
       "2020-01-26       0.0\n",
       "               ...  \n",
       "2021-12-13       0.0\n",
       "2021-12-14    4872.0\n",
       "2021-12-15    5678.0\n",
       "2021-12-16    4367.0\n",
       "2021-12-17    7510.0\n",
       "Name: infection_rate, Length: 696, dtype: float64"
      ]
     },
     "execution_count": 50,
     "metadata": {},
     "output_type": "execute_result"
    }
   ],
   "source": [
    "full_data.groupby('Date')['infection_rate'].sum()"
   ]
  },
  {
   "cell_type": "code",
   "execution_count": 54,
   "metadata": {},
   "outputs": [
    {
     "data": {
      "image/png": "[encoded data removed]",
      "text/plain": [
       "<Figure size 1440x1152 with 1 Axes>"
      ]
     },
     "metadata": {
      "needs_background": "dark"
     },
     "output_type": "display_data"
    }
   ],
   "source": [
    "fig, ax = plt.subplots(figsize=fig_dim)\n",
    "ax.plot(\n",
    "    full_data['Date'], full_data['infection_rate'])\n",
    "\n",
    "ax.set(\n",
    "    ylabel=\"Infection Rate\",\n",
    "    xlabel=\"Date\"\n",
    ")\n",
    "\n",
    "date_form = DateFormatter(\"%y-%m\")\n",
    "ax.xaxis.set_major_formatter(date_form)"
   ]
  },
  {
   "cell_type": "code",
   "execution_count": 62,
   "metadata": {},
   "outputs": [
    {
     "data": {
      "text/plain": [
       "194802   2021-12-17\n",
       "Name: Date, dtype: datetime64[ns]"
      ]
     },
     "execution_count": 62,
     "metadata": {},
     "output_type": "execute_result"
    }
   ],
   "source": [
    "full_data['Date'][full_data['infection_rate'] ==  max(full_data['infection_rate'])]"
   ]
  },
  {
   "cell_type": "code",
   "execution_count": 64,
   "metadata": {},
   "outputs": [
    {
     "data": {
      "text/html": [
       "<div>\n",
       "<style scoped>\n",
       "    .dataframe tbody tr th:only-of-type {\n",
       "        vertical-align: middle;\n",
       "    }\n",
       "\n",
       "    .dataframe tbody tr th {\n",
       "        vertical-align: top;\n",
       "    }\n",
       "\n",
       "    .dataframe thead th {\n",
       "        text-align: right;\n",
       "    }\n",
       "</style>\n",
       "<table border=\"1\" class=\"dataframe\">\n",
       "  <thead>\n",
       "    <tr style=\"text-align: right;\">\n",
       "      <th></th>\n",
       "      <th>states</th>\n",
       "      <th>region</th>\n",
       "      <th>Population</th>\n",
       "      <th>Overall CCVI Index</th>\n",
       "      <th>Age</th>\n",
       "      <th>Epidemiological</th>\n",
       "      <th>Fragility</th>\n",
       "      <th>Health System</th>\n",
       "      <th>Population Density</th>\n",
       "      <th>Socio-Economic</th>\n",
       "      <th>Transport Availability</th>\n",
       "      <th>Acute IHR</th>\n",
       "    </tr>\n",
       "  </thead>\n",
       "  <tbody>\n",
       "    <tr>\n",
       "      <th>0</th>\n",
       "      <td>FCT</td>\n",
       "      <td>North Central</td>\n",
       "      <td>4865000</td>\n",
       "      <td>0.3</td>\n",
       "      <td>0.0</td>\n",
       "      <td>0.9</td>\n",
       "      <td>0.4</td>\n",
       "      <td>0.6</td>\n",
       "      <td>0.9</td>\n",
       "      <td>0.6</td>\n",
       "      <td>0.2</td>\n",
       "      <td>0.79</td>\n",
       "    </tr>\n",
       "    <tr>\n",
       "      <th>1</th>\n",
       "      <td>Plateau</td>\n",
       "      <td>North Central</td>\n",
       "      <td>4766000</td>\n",
       "      <td>0.4</td>\n",
       "      <td>0.5</td>\n",
       "      <td>0.4</td>\n",
       "      <td>0.8</td>\n",
       "      <td>0.3</td>\n",
       "      <td>0.3</td>\n",
       "      <td>0.5</td>\n",
       "      <td>0.3</td>\n",
       "      <td>0.93</td>\n",
       "    </tr>\n",
       "    <tr>\n",
       "      <th>2</th>\n",
       "      <td>Kwara</td>\n",
       "      <td>North Central</td>\n",
       "      <td>3524000</td>\n",
       "      <td>0.3</td>\n",
       "      <td>0.4</td>\n",
       "      <td>0.3</td>\n",
       "      <td>0.2</td>\n",
       "      <td>0.4</td>\n",
       "      <td>0.2</td>\n",
       "      <td>0.6</td>\n",
       "      <td>0.7</td>\n",
       "      <td>0.93</td>\n",
       "    </tr>\n",
       "    <tr>\n",
       "      <th>3</th>\n",
       "      <td>Nassarawa</td>\n",
       "      <td>North Central</td>\n",
       "      <td>2783000</td>\n",
       "      <td>0.1</td>\n",
       "      <td>0.3</td>\n",
       "      <td>0.5</td>\n",
       "      <td>0.9</td>\n",
       "      <td>0.0</td>\n",
       "      <td>0.1</td>\n",
       "      <td>0.6</td>\n",
       "      <td>0.5</td>\n",
       "      <td>0.85</td>\n",
       "    </tr>\n",
       "    <tr>\n",
       "      <th>4</th>\n",
       "      <td>Niger</td>\n",
       "      <td>North Central</td>\n",
       "      <td>6260000</td>\n",
       "      <td>0.6</td>\n",
       "      <td>0.0</td>\n",
       "      <td>0.6</td>\n",
       "      <td>0.3</td>\n",
       "      <td>0.7</td>\n",
       "      <td>0.1</td>\n",
       "      <td>0.8</td>\n",
       "      <td>0.8</td>\n",
       "      <td>0.84</td>\n",
       "    </tr>\n",
       "  </tbody>\n",
       "</table>\n",
       "</div>"
      ],
      "text/plain": [
       "      states         region  Population  Overall CCVI Index  Age  \\\n",
       "0        FCT  North Central     4865000                 0.3  0.0   \n",
       "1    Plateau  North Central     4766000                 0.4  0.5   \n",
       "2      Kwara  North Central     3524000                 0.3  0.4   \n",
       "3  Nassarawa  North Central     2783000                 0.1  0.3   \n",
       "4      Niger  North Central     6260000                 0.6  0.0   \n",
       "\n",
       "   Epidemiological  Fragility  Health System  Population Density  \\\n",
       "0              0.9        0.4            0.6                 0.9   \n",
       "1              0.4        0.8            0.3                 0.3   \n",
       "2              0.3        0.2            0.4                 0.2   \n",
       "3              0.5        0.9            0.0                 0.1   \n",
       "4              0.6        0.3            0.7                 0.1   \n",
       "\n",
       "   Socio-Economic   Transport Availability  Acute IHR  \n",
       "0             0.6                      0.2       0.79  \n",
       "1             0.5                      0.3       0.93  \n",
       "2             0.6                      0.7       0.93  \n",
       "3             0.6                      0.5       0.85  \n",
       "4             0.8                      0.8       0.84  "
      ]
     },
     "execution_count": 64,
     "metadata": {},
     "output_type": "execute_result"
    }
   ],
   "source": [
    "covid_external.head()"
   ]
  },
  {
   "cell_type": "code",
   "execution_count": 92,
   "metadata": {},
   "outputs": [],
   "source": [
    "total_covid_data = pd.concat([covid_data, covid_external], join='outer', axis=1)\n",
    "\n",
    "total_covid_data.to_csv('Total Covid Data.csv')\n",
    "\n",
    "del total_covid_data['states']"
   ]
  },
  {
   "cell_type": "code",
   "execution_count": 93,
   "metadata": {},
   "outputs": [
    {
     "data": {
      "text/html": [
       "<div>\n",
       "<style scoped>\n",
       "    .dataframe tbody tr th:only-of-type {\n",
       "        vertical-align: middle;\n",
       "    }\n",
       "\n",
       "    .dataframe tbody tr th {\n",
       "        vertical-align: top;\n",
       "    }\n",
       "\n",
       "    .dataframe thead th {\n",
       "        text-align: right;\n",
       "    }\n",
       "</style>\n",
       "<table border=\"1\" class=\"dataframe\">\n",
       "  <thead>\n",
       "    <tr style=\"text-align: right;\">\n",
       "      <th></th>\n",
       "      <th>States Affected</th>\n",
       "      <th>lab_confirmed_cases</th>\n",
       "      <th>admitted_cases</th>\n",
       "      <th>discharged</th>\n",
       "      <th>deaths</th>\n",
       "    </tr>\n",
       "  </thead>\n",
       "  <tbody>\n",
       "    <tr>\n",
       "      <th>0</th>\n",
       "      <td>Lagos</td>\n",
       "      <td>83514</td>\n",
       "      <td>2705</td>\n",
       "      <td>80053</td>\n",
       "      <td>756</td>\n",
       "    </tr>\n",
       "    <tr>\n",
       "      <th>1</th>\n",
       "      <td>FCT</td>\n",
       "      <td>24777</td>\n",
       "      <td>1162</td>\n",
       "      <td>23391</td>\n",
       "      <td>224</td>\n",
       "    </tr>\n",
       "    <tr>\n",
       "      <th>2</th>\n",
       "      <td>Rivers</td>\n",
       "      <td>13637</td>\n",
       "      <td>647</td>\n",
       "      <td>12836</td>\n",
       "      <td>154</td>\n",
       "    </tr>\n",
       "    <tr>\n",
       "      <th>3</th>\n",
       "      <td>Kaduna</td>\n",
       "      <td>10213</td>\n",
       "      <td>66</td>\n",
       "      <td>10066</td>\n",
       "      <td>81</td>\n",
       "    </tr>\n",
       "    <tr>\n",
       "      <th>4</th>\n",
       "      <td>Plateau</td>\n",
       "      <td>10061</td>\n",
       "      <td>95</td>\n",
       "      <td>9893</td>\n",
       "      <td>73</td>\n",
       "    </tr>\n",
       "  </tbody>\n",
       "</table>\n",
       "</div>"
      ],
      "text/plain": [
       "  States Affected  lab_confirmed_cases  admitted_cases  discharged  deaths\n",
       "0           Lagos                83514            2705       80053     756\n",
       "1             FCT                24777            1162       23391     224\n",
       "2          Rivers                13637             647       12836     154\n",
       "3          Kaduna                10213              66       10066      81\n",
       "4         Plateau                10061              95        9893      73"
      ]
     },
     "execution_count": 93,
     "metadata": {},
     "output_type": "execute_result"
    }
   ],
   "source": [
    "covid_data.head()"
   ]
  },
  {
   "cell_type": "code",
   "execution_count": 94,
   "metadata": {},
   "outputs": [
    {
     "data": {
      "text/html": [
       "<div>\n",
       "<style scoped>\n",
       "    .dataframe tbody tr th:only-of-type {\n",
       "        vertical-align: middle;\n",
       "    }\n",
       "\n",
       "    .dataframe tbody tr th {\n",
       "        vertical-align: top;\n",
       "    }\n",
       "\n",
       "    .dataframe thead th {\n",
       "        text-align: right;\n",
       "    }\n",
       "</style>\n",
       "<table border=\"1\" class=\"dataframe\">\n",
       "  <thead>\n",
       "    <tr style=\"text-align: right;\">\n",
       "      <th></th>\n",
       "      <th>States Affected</th>\n",
       "      <th>lab_confirmed_cases</th>\n",
       "      <th>admitted_cases</th>\n",
       "      <th>discharged</th>\n",
       "      <th>deaths</th>\n",
       "      <th>region</th>\n",
       "      <th>Population</th>\n",
       "      <th>Overall CCVI Index</th>\n",
       "      <th>Age</th>\n",
       "      <th>Epidemiological</th>\n",
       "      <th>Fragility</th>\n",
       "      <th>Health System</th>\n",
       "      <th>Population Density</th>\n",
       "      <th>Socio-Economic</th>\n",
       "      <th>Transport Availability</th>\n",
       "      <th>Acute IHR</th>\n",
       "    </tr>\n",
       "  </thead>\n",
       "  <tbody>\n",
       "    <tr>\n",
       "      <th>0</th>\n",
       "      <td>Lagos</td>\n",
       "      <td>83514</td>\n",
       "      <td>2705</td>\n",
       "      <td>80053</td>\n",
       "      <td>756</td>\n",
       "      <td>North Central</td>\n",
       "      <td>4865000</td>\n",
       "      <td>0.3</td>\n",
       "      <td>0.0</td>\n",
       "      <td>0.9</td>\n",
       "      <td>0.4</td>\n",
       "      <td>0.6</td>\n",
       "      <td>0.9</td>\n",
       "      <td>0.6</td>\n",
       "      <td>0.2</td>\n",
       "      <td>0.79</td>\n",
       "    </tr>\n",
       "    <tr>\n",
       "      <th>1</th>\n",
       "      <td>FCT</td>\n",
       "      <td>24777</td>\n",
       "      <td>1162</td>\n",
       "      <td>23391</td>\n",
       "      <td>224</td>\n",
       "      <td>North Central</td>\n",
       "      <td>4766000</td>\n",
       "      <td>0.4</td>\n",
       "      <td>0.5</td>\n",
       "      <td>0.4</td>\n",
       "      <td>0.8</td>\n",
       "      <td>0.3</td>\n",
       "      <td>0.3</td>\n",
       "      <td>0.5</td>\n",
       "      <td>0.3</td>\n",
       "      <td>0.93</td>\n",
       "    </tr>\n",
       "    <tr>\n",
       "      <th>2</th>\n",
       "      <td>Rivers</td>\n",
       "      <td>13637</td>\n",
       "      <td>647</td>\n",
       "      <td>12836</td>\n",
       "      <td>154</td>\n",
       "      <td>North Central</td>\n",
       "      <td>3524000</td>\n",
       "      <td>0.3</td>\n",
       "      <td>0.4</td>\n",
       "      <td>0.3</td>\n",
       "      <td>0.2</td>\n",
       "      <td>0.4</td>\n",
       "      <td>0.2</td>\n",
       "      <td>0.6</td>\n",
       "      <td>0.7</td>\n",
       "      <td>0.93</td>\n",
       "    </tr>\n",
       "    <tr>\n",
       "      <th>3</th>\n",
       "      <td>Kaduna</td>\n",
       "      <td>10213</td>\n",
       "      <td>66</td>\n",
       "      <td>10066</td>\n",
       "      <td>81</td>\n",
       "      <td>North Central</td>\n",
       "      <td>2783000</td>\n",
       "      <td>0.1</td>\n",
       "      <td>0.3</td>\n",
       "      <td>0.5</td>\n",
       "      <td>0.9</td>\n",
       "      <td>0.0</td>\n",
       "      <td>0.1</td>\n",
       "      <td>0.6</td>\n",
       "      <td>0.5</td>\n",
       "      <td>0.85</td>\n",
       "    </tr>\n",
       "    <tr>\n",
       "      <th>4</th>\n",
       "      <td>Plateau</td>\n",
       "      <td>10061</td>\n",
       "      <td>95</td>\n",
       "      <td>9893</td>\n",
       "      <td>73</td>\n",
       "      <td>North Central</td>\n",
       "      <td>6260000</td>\n",
       "      <td>0.6</td>\n",
       "      <td>0.0</td>\n",
       "      <td>0.6</td>\n",
       "      <td>0.3</td>\n",
       "      <td>0.7</td>\n",
       "      <td>0.1</td>\n",
       "      <td>0.8</td>\n",
       "      <td>0.8</td>\n",
       "      <td>0.84</td>\n",
       "    </tr>\n",
       "  </tbody>\n",
       "</table>\n",
       "</div>"
      ],
      "text/plain": [
       "  States Affected  lab_confirmed_cases  admitted_cases  discharged  deaths  \\\n",
       "0           Lagos                83514            2705       80053     756   \n",
       "1             FCT                24777            1162       23391     224   \n",
       "2          Rivers                13637             647       12836     154   \n",
       "3          Kaduna                10213              66       10066      81   \n",
       "4         Plateau                10061              95        9893      73   \n",
       "\n",
       "          region  Population  Overall CCVI Index  Age  Epidemiological  \\\n",
       "0  North Central     4865000                 0.3  0.0              0.9   \n",
       "1  North Central     4766000                 0.4  0.5              0.4   \n",
       "2  North Central     3524000                 0.3  0.4              0.3   \n",
       "3  North Central     2783000                 0.1  0.3              0.5   \n",
       "4  North Central     6260000                 0.6  0.0              0.6   \n",
       "\n",
       "   Fragility  Health System  Population Density  Socio-Economic  \\\n",
       "0        0.4            0.6                 0.9             0.6   \n",
       "1        0.8            0.3                 0.3             0.5   \n",
       "2        0.2            0.4                 0.2             0.6   \n",
       "3        0.9            0.0                 0.1             0.6   \n",
       "4        0.3            0.7                 0.1             0.8   \n",
       "\n",
       "    Transport Availability  Acute IHR  \n",
       "0                      0.2       0.79  \n",
       "1                      0.3       0.93  \n",
       "2                      0.7       0.93  \n",
       "3                      0.5       0.85  \n",
       "4                      0.8       0.84  "
      ]
     },
     "execution_count": 94,
     "metadata": {},
     "output_type": "execute_result"
    }
   ],
   "source": [
    "total_covid_data.head()"
   ]
  },
  {
   "cell_type": "code",
   "execution_count": 130,
   "metadata": {},
   "outputs": [
    {
     "data": {
      "text/plain": [
       "[Text(0, 0.5, 'Overall CCVI Index')]"
      ]
     },
     "execution_count": 130,
     "metadata": {},
     "output_type": "execute_result"
    },
    {
     "data": {
      "image/png": "[encoded data removed]",
      "text/plain": [
       "<Figure size 1440x1152 with 2 Axes>"
      ]
     },
     "metadata": {
      "needs_background": "dark"
     },
     "output_type": "display_data"
    }
   ],
   "source": [
    "x = total_covid_data['States Affected']\n",
    "y1 = total_covid_data[['States Affected' ,'lab_confirmed_cases', 'Overall CCVI Index']].nlargest(10, columns='lab_confirmed_cases')\n",
    "\n",
    "\n",
    "\n",
    "\n",
    "fig = plt.figure(figsize=fig_dim)\n",
    "ax1 = fig.add_subplot(111)\n",
    "ax1.plot(\n",
    "    y1['States Affected'],\n",
    "    y1['lab_confirmed_cases']\n",
    ")\n",
    "ax1.set(\n",
    "    ylabel=\"Lab Confirmed Cases\",\n",
    "    xlabel='States Affected',\n",
    ")\n",
    "\n",
    "ax2 = ax1.twinx()\n",
    "ax2.plot(\n",
    "    y1['States Affected'],\n",
    "    y1['Overall CCVI Index'],\n",
    "    color='red'\n",
    ")\n",
    "ax2.set(\n",
    "    ylabel=\"Overall CCVI Index\"\n",
    ")\n"
   ]
  },
  {
   "cell_type": "code",
   "execution_count": 133,
   "metadata": {},
   "outputs": [
    {
     "data": {
      "text/plain": [
       "[Text(0.5, 0, 'Population Density'), Text(0, 0.5, 'Lab Confirmed Cases')]"
      ]
     },
     "execution_count": 133,
     "metadata": {},
     "output_type": "execute_result"
    },
    {
     "data": {
      "image/png": "[encoded data removed]",
      "text/plain": [
       "<Figure size 1440x1152 with 1 Axes>"
      ]
     },
     "metadata": {
      "needs_background": "dark"
     },
     "output_type": "display_data"
    }
   ],
   "source": [
    "fig, ax = plt.subplots(figsize=fig_dim)\n",
    "sns.regplot(\n",
    "    x=total_covid_data['Population Density'],\n",
    "    y=total_covid_data['lab_confirmed_cases']\n",
    ")\n",
    "\n",
    "ax.set(\n",
    "    xlabel = 'Population Density',\n",
    "    ylabel = 'Lab Confirmed Cases'\n",
    ")"
   ]
  },
  {
   "cell_type": "code",
   "execution_count": 136,
   "metadata": {},
   "outputs": [
    {
     "data": {
      "text/html": [
       "<div>\n",
       "<style scoped>\n",
       "    .dataframe tbody tr th:only-of-type {\n",
       "        vertical-align: middle;\n",
       "    }\n",
       "\n",
       "    .dataframe tbody tr th {\n",
       "        vertical-align: top;\n",
       "    }\n",
       "\n",
       "    .dataframe thead th {\n",
       "        text-align: right;\n",
       "    }\n",
       "</style>\n",
       "<table border=\"1\" class=\"dataframe\">\n",
       "  <thead>\n",
       "    <tr style=\"text-align: right;\">\n",
       "      <th></th>\n",
       "      <th>Year</th>\n",
       "      <th>Q1</th>\n",
       "      <th>Q2</th>\n",
       "      <th>Q3</th>\n",
       "      <th>Q4</th>\n",
       "    </tr>\n",
       "  </thead>\n",
       "  <tbody>\n",
       "    <tr>\n",
       "      <th>0</th>\n",
       "      <td>2014</td>\n",
       "      <td>15438679.50</td>\n",
       "      <td>16084622.31</td>\n",
       "      <td>17479127.58</td>\n",
       "      <td>18150356.45</td>\n",
       "    </tr>\n",
       "    <tr>\n",
       "      <th>1</th>\n",
       "      <td>2015</td>\n",
       "      <td>16050601.38</td>\n",
       "      <td>16463341.91</td>\n",
       "      <td>17976234.59</td>\n",
       "      <td>18533752.07</td>\n",
       "    </tr>\n",
       "    <tr>\n",
       "      <th>2</th>\n",
       "      <td>2016</td>\n",
       "      <td>15943714.54</td>\n",
       "      <td>16218542.41</td>\n",
       "      <td>17555441.69</td>\n",
       "      <td>18213537.29</td>\n",
       "    </tr>\n",
       "    <tr>\n",
       "      <th>3</th>\n",
       "      <td>2017</td>\n",
       "      <td>15797965.83</td>\n",
       "      <td>16334719.27</td>\n",
       "      <td>17760228.17</td>\n",
       "      <td>18598067.07</td>\n",
       "    </tr>\n",
       "    <tr>\n",
       "      <th>4</th>\n",
       "      <td>2018</td>\n",
       "      <td>16096654.19</td>\n",
       "      <td>16580508.07</td>\n",
       "      <td>18081342.10</td>\n",
       "      <td>19041437.59</td>\n",
       "    </tr>\n",
       "    <tr>\n",
       "      <th>5</th>\n",
       "      <td>2019</td>\n",
       "      <td>16434552.65</td>\n",
       "      <td>16931434.89</td>\n",
       "      <td>18494114.17</td>\n",
       "      <td>19530000.00</td>\n",
       "    </tr>\n",
       "    <tr>\n",
       "      <th>6</th>\n",
       "      <td>2020</td>\n",
       "      <td>16740000.00</td>\n",
       "      <td>15890000.00</td>\n",
       "      <td>17820000.00</td>\n",
       "      <td>0.00</td>\n",
       "    </tr>\n",
       "  </tbody>\n",
       "</table>\n",
       "</div>"
      ],
      "text/plain": [
       "   Year           Q1           Q2           Q3           Q4\n",
       "0  2014  15438679.50  16084622.31  17479127.58  18150356.45\n",
       "1  2015  16050601.38  16463341.91  17976234.59  18533752.07\n",
       "2  2016  15943714.54  16218542.41  17555441.69  18213537.29\n",
       "3  2017  15797965.83  16334719.27  17760228.17  18598067.07\n",
       "4  2018  16096654.19  16580508.07  18081342.10  19041437.59\n",
       "5  2019  16434552.65  16931434.89  18494114.17  19530000.00\n",
       "6  2020  16740000.00  15890000.00  17820000.00         0.00"
      ]
     },
     "execution_count": 136,
     "metadata": {},
     "output_type": "execute_result"
    }
   ],
   "source": [
    "realGdp"
   ]
  },
  {
   "cell_type": "code",
   "execution_count": 142,
   "metadata": {},
   "outputs": [],
   "source": [
    "real_gdp = pd.melt(\n",
    "    realGdp,\n",
    "    id_vars='Year',\n",
    "    var_name='Quarter',\n",
    "    value_name=\"GDP\")"
   ]
  },
  {
   "cell_type": "code",
   "execution_count": 147,
   "metadata": {},
   "outputs": [
    {
     "data": {
      "text/plain": [
       "<matplotlib.legend.Legend at 0x27dabceb0d0>"
      ]
     },
     "execution_count": 147,
     "metadata": {},
     "output_type": "execute_result"
    },
    {
     "data": {
      "image/png": "[encoded data removed]",
      "text/plain": [
       "<Figure size 1440x1152 with 1 Axes>"
      ]
     },
     "metadata": {
      "needs_background": "dark"
     },
     "output_type": "display_data"
    }
   ],
   "source": [
    "fig, ax = plt.subplots(figsize=fig_dim)\n",
    "\n",
    "sns.barplot(\n",
    "    x='Year',\n",
    "    y='GDP',\n",
    "    hue='Quarter',\n",
    "    data = real_gdp,\n",
    "    ax=ax\n",
    ")\n",
    "ax.axhline(6)\n",
    "ax.legend(loc='lower left')"
   ]
  },
  {
   "cell_type": "code",
   "execution_count": null,
   "metadata": {},
   "outputs": [],
   "source": []
  }
 ],
 "metadata": {
  "interpreter": {
   "hash": "40a0890bc9c562796f73c9e677c08db3ddd546e96034908b1c5b148d9f57c16a"
  },
  "kernelspec": {
   "display_name": "Python 3.9.7 64-bit ('base': conda)",
   "language": "python",
   "name": "python3"
  },
  "language_info": {
   "codemirror_mode": {
    "name": "ipython",
    "version": 3
   },
   "file_extension": ".py",
   "mimetype": "text/x-python",
   "name": "python",
   "nbconvert_exporter": "python",
   "pygments_lexer": "ipython3",
   "version": "3.9.7"
  },
  "orig_nbformat": 4
 },
 "nbformat": 4,
 "nbformat_minor": 2
}
